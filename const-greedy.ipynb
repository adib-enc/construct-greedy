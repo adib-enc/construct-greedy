{
 "cells": [
  {
   "cell_type": "markdown",
   "id": "04726843",
   "metadata": {},
   "source": [
    "# Greedy\n",
    "\n",
    "- problem: jumlah minimal tim dalam constraint yg diberikan\n",
    "- constraint: is activity compatible with some team and deadline?"
   ]
  },
  {
   "cell_type": "code",
   "execution_count": null,
   "id": "0f13a6d1",
   "metadata": {},
   "outputs": [],
   "source": []
  },
  {
   "cell_type": "code",
   "execution_count": 4,
   "id": "07542a40",
   "metadata": {},
   "outputs": [],
   "source": [
    "\"\"\"\n",
    "https://docs.google.com/spreadsheets/d/1KxWTopBOX0lhMYJ0ij3u7sYs1s871_Vk/edit\n",
    "\"\"\"\n",
    "\n",
    "class Greedy():\n",
    "    a = 1\n",
    "    data = None\n",
    "    df = None\n",
    "    \n",
    "    def __init__(self):\n",
    "        pass\n",
    "\n",
    "    def load(self, fname):\n",
    "        self.df = pd.read_csv(fname)\n",
    "        return self\n",
    "    \n",
    "    def loadSet(self, fname):\n",
    "        self.load(fname)\n",
    "        self.data = self.df\n",
    "        return self\n",
    "\n",
    "    # df compatible data\n",
    "    def setData(self, data):\n",
    "        self.data = data\n",
    "        return self\n",
    "\n",
    "    def isFeasible(self):\n",
    "        return False\n",
    "    \n",
    "    def doGreedy(self):\n",
    "        res = {}\n",
    "        for i,d in enumerate(self.data):\n",
    "            print(i)\n",
    "        return res\n",
    "\n",
    "g = Greedy()\n",
    "result = g.loadSet(\"const-greedy.csv\").doGreedy()\n",
    "print(g.data)\n",
    "print(result)"
   ]
  },
  {
   "cell_type": "code",
   "execution_count": 2,
   "id": "1029dc81",
   "metadata": {},
   "outputs": [
    {
     "data": {
      "text/plain": [
       "'fun'"
      ]
     },
     "execution_count": 2,
     "metadata": {},
     "output_type": "execute_result"
    }
   ],
   "source": [
    "# https://www.toptal.com/developers/hastebin/ivecicixut.yaml\n",
    "\"\"\"\n",
    "function optimasi(){\n",
    "    \n",
    "    dur #jumlah hari yang diperlukan untuk pengerjaan\n",
    "    cost #biaya yang diperlukan\n",
    "    costcrash #biayapengahancuran \n",
    "    expdaycrash #lamanya waktu crash\n",
    "    dailyreward #reward\n",
    "    timeleft = 4*5*6  = 120 #waktu kerja selama 6 bulan\n",
    "    task = #jumlah task\n",
    "\n",
    "    #time\n",
    "    #reward = 0\n",
    "    #task = 0\n",
    "    if(dur > 0 and timeleft > 0){\n",
    "        timeleft = timeleft - dur;\n",
    "        if(timeleft > 0 and expdaycrash > 0){\n",
    "            timeleft = timeleft - expdaycrash;\n",
    "            if(timeleft > 0){\n",
    "                task = task + 1; #initiate task\n",
    "            }\n",
    "        }\n",
    "    }\n",
    "\n",
    "    #costreward\n",
    "    if(cost != 0){\n",
    "        totalcost = cost;\n",
    "        if(costcrash != 0){\n",
    "             totalcost = totalcost + costcrash\n",
    "        }\n",
    "        reward = dailyreward - totalcost;\n",
    "    }\n",
    "\n",
    "    print(task,reward,)\n",
    "}\n",
    "\"\"\"\n",
    "# a\n",
    "\"fun\""
   ]
  }
 ],
 "metadata": {
  "kernelspec": {
   "display_name": "Python 3 (ipykernel)",
   "language": "python",
   "name": "python3"
  },
  "language_info": {
   "codemirror_mode": {
    "name": "ipython",
    "version": 3
   },
   "file_extension": ".py",
   "mimetype": "text/x-python",
   "name": "python",
   "nbconvert_exporter": "python",
   "pygments_lexer": "ipython3",
   "version": "3.9.7"
  }
 },
 "nbformat": 4,
 "nbformat_minor": 5
}
