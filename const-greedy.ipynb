{
  "nbformat": 4,
  "nbformat_minor": 5,
  "metadata": {
    "kernelspec": {
      "display_name": "Python 3 (ipykernel)",
      "language": "python",
      "name": "python3"
    },
    "language_info": {
      "codemirror_mode": {
        "name": "ipython",
        "version": 3
      },
      "file_extension": ".py",
      "mimetype": "text/x-python",
      "name": "python",
      "nbconvert_exporter": "python",
      "pygments_lexer": "ipython3",
      "version": "3.9.7"
    },
    "colab": {
      "name": "const-greedy.ipynb",
      "provenance": [],
      "collapsed_sections": []
    }
  },
  "cells": [
    {
      "cell_type": "markdown",
      "metadata": {
        "id": "04726843"
      },
      "source": [
        "# Greedy\n",
        "\n",
        "- problem: jumlah minimal tim dalam constraint yg diberikan\n",
        "- constraint: is activity compatible with some team and deadline?\n",
        "\n",
        "## todo\n",
        "- fix any such team"
      ],
      "id": "04726843"
    },
    {
      "cell_type": "code",
      "metadata": {
        "id": "0f13a6d1"
      },
      "source": [
        "import pandas as pd\n",
        "from pprint import pprint"
      ],
      "id": "0f13a6d1",
      "execution_count": 1,
      "outputs": []
    },
    {
      "cell_type": "code",
      "metadata": {
        "scrolled": false,
        "colab": {
          "base_uri": "https://localhost:8080/"
        },
        "id": "07542a40",
        "outputId": "6708f57c-a01b-49e2-b28f-08ba691106b8"
      },
      "source": [
        "\"\"\"\n",
        "https://docs.google.com/spreadsheets/d/1KxWTopBOX0lhMYJ0ij3u7sYs1s871_Vk/edit\n",
        "\"\"\"\n",
        "\n",
        "class Greedy():\n",
        "    a = 1\n",
        "    data = None\n",
        "    df = None\n",
        "    teamWork = {}\n",
        "    teamCount = 0\n",
        "    maxDayPerTeam = 30*3\n",
        "    selectTeam = 0\n",
        "    \n",
        "    def __init__(self):\n",
        "        pass\n",
        "\n",
        "    def load(self, fname):\n",
        "        self.df = pd.read_csv(fname)\n",
        "        return self\n",
        "    \n",
        "    def loadSet(self, fname):\n",
        "        self.load(fname)\n",
        "        self.data = self.df\n",
        "        return self\n",
        "    \n",
        "    def reset(self):\n",
        "        self.teamWork = {}\n",
        "        return self\n",
        "\n",
        "    def sortBy(self, col):\n",
        "        self.data = self.df.sort_values(col)\n",
        "        return self\n",
        "    \n",
        "    def setMaxDayPerTeam(self, maxd):\n",
        "        self.maxDayPerTeam = maxd\n",
        "        return self\n",
        "\n",
        "    # df compatible data\n",
        "    def setData(self, data):\n",
        "        self.data = data\n",
        "        return self\n",
        "    \n",
        "    def addWorkToTeam(self, key, data):\n",
        "        self.teamWork[key]['works'].append(data)\n",
        "        current = self.teamWork[key]['totalDay']\n",
        "        self.teamWork[key]['totalDay'] = current + data['dur']\n",
        "        return self\n",
        "    \n",
        "    def isCompatibleToAnyTeam(self, data):\n",
        "        compat = False\n",
        "        for t in g.teamWork.keys():\n",
        "            lastWork = g.teamWork[t]['works'][-1]\n",
        "\n",
        "            if lastWork['finish'] < data['start']:\n",
        "                self.selectTeam = t\n",
        "                compat = True\n",
        "                break\n",
        "\n",
        "        return compat\n",
        "\n",
        "    # df compatible data\n",
        "    def addTeam(self, key, data):\n",
        "        self.teamWork[key] = data\n",
        "        return self\n",
        "\n",
        "    def isFeasible(self, idx, data):\n",
        "        \"\"\"\n",
        "        data = {\n",
        "            \"team\": self.teamCount,\n",
        "            \"work\": d,\n",
        "        }\n",
        "        \"\"\"\n",
        "        try:\n",
        "            c1 = not len(self.teamWork.keys()) < 1\n",
        "            c2 = self.maxDayPerTeam >= self.teamWork[idx]['totalDay']\n",
        "            c3 = self.isCompatibleToAnyTeam(data['work'])\n",
        "\n",
        "            # todo : if compatible with some team\n",
        "        except:\n",
        "            return False\n",
        "        cond = c1 & c2 & c3\n",
        "        return cond\n",
        "    \n",
        "    def doGreedy(self):\n",
        "        res = {}\n",
        "        # for i,d in enumerate(self.data):\n",
        "        for i,d in self.data.iterrows():\n",
        "            fdata = {\n",
        "                \"team\": self.teamCount,\n",
        "                \"work\": d,\n",
        "            }\n",
        "            teamidx = str(self.teamCount)\n",
        "            if self.isFeasible(teamidx, fdata):\n",
        "                # add to existing teamwork\n",
        "                self.addWorkToTeam(self.selectTeam, d)\n",
        "            else:\n",
        "                # add new data to teamwork\n",
        "                idx = str(self.teamCount+1)\n",
        "                self.addTeam(idx, {\n",
        "                    \"works\":[],\n",
        "                    \"totalDay\": 0,\n",
        "                })\n",
        "                self.addWorkToTeam(idx, d)\n",
        "                self.teamCount += 1\n",
        "#             print(self.teamWork)\n",
        "        return res\n",
        "      \n",
        "    def showResult(self):\n",
        "        for t in g.teamWork.keys():\n",
        "            wt = g.teamWork[t]['works']\n",
        "            ld = len(wt)\n",
        "            print(t, f\"{ld}\", [\"{} - {}\".format(w['start'], w['finish']) for w in wt])\n",
        "\n",
        "g = Greedy()\n",
        "# fname = \"const-greedy.csv\"\n",
        "fname = \"https://gist.github.com/adib-enc/4408230ef5f91c00dae66406830348c0/raw/15cbdc1bbd67b54b07f1a9dcfd6727b1fc7cf43a/const-greedy.csv\"\n",
        "g.loadSet(fname)\n",
        "g.data = g.data[0:6]\n",
        "g.sortBy(\"start\")"
      ],
      "id": "07542a40",
      "execution_count": 75,
      "outputs": [
        {
          "output_type": "execute_result",
          "data": {
            "text/plain": [
              "<__main__.Greedy at 0x7fb0e9403910>"
            ]
          },
          "metadata": {},
          "execution_count": 75
        }
      ]
    },
    {
      "cell_type": "code",
      "source": [
        "g.data"
      ],
      "metadata": {
        "colab": {
          "base_uri": "https://localhost:8080/",
          "height": 614
        },
        "id": "0rjn9tWM_WRB",
        "outputId": "9cfb2993-b1b1-4cd7-d6c4-53bacd6c479b"
      },
      "id": "0rjn9tWM_WRB",
      "execution_count": 76,
      "outputs": [
        {
          "output_type": "execute_result",
          "data": {
            "text/html": [
              "<div>\n",
              "<style scoped>\n",
              "    .dataframe tbody tr th:only-of-type {\n",
              "        vertical-align: middle;\n",
              "    }\n",
              "\n",
              "    .dataframe tbody tr th {\n",
              "        vertical-align: top;\n",
              "    }\n",
              "\n",
              "    .dataframe thead th {\n",
              "        text-align: right;\n",
              "    }\n",
              "</style>\n",
              "<table border=\"1\" class=\"dataframe\">\n",
              "  <thead>\n",
              "    <tr style=\"text-align: right;\">\n",
              "      <th></th>\n",
              "      <th>no</th>\n",
              "      <th>dur</th>\n",
              "      <th>dreward</th>\n",
              "      <th>reward total</th>\n",
              "      <th>cost</th>\n",
              "      <th>start</th>\n",
              "      <th>finish</th>\n",
              "    </tr>\n",
              "  </thead>\n",
              "  <tbody>\n",
              "    <tr>\n",
              "      <th>0</th>\n",
              "      <td>1</td>\n",
              "      <td>24</td>\n",
              "      <td>2000</td>\n",
              "      <td>48000</td>\n",
              "      <td>1200</td>\n",
              "      <td>1</td>\n",
              "      <td>25</td>\n",
              "    </tr>\n",
              "    <tr>\n",
              "      <th>12</th>\n",
              "      <td>13</td>\n",
              "      <td>24</td>\n",
              "      <td>2000</td>\n",
              "      <td>48000</td>\n",
              "      <td>1800</td>\n",
              "      <td>9</td>\n",
              "      <td>33</td>\n",
              "    </tr>\n",
              "    <tr>\n",
              "      <th>9</th>\n",
              "      <td>10</td>\n",
              "      <td>33</td>\n",
              "      <td>2000</td>\n",
              "      <td>66000</td>\n",
              "      <td>320</td>\n",
              "      <td>11</td>\n",
              "      <td>44</td>\n",
              "    </tr>\n",
              "    <tr>\n",
              "      <th>5</th>\n",
              "      <td>6</td>\n",
              "      <td>24</td>\n",
              "      <td>2000</td>\n",
              "      <td>48000</td>\n",
              "      <td>18000</td>\n",
              "      <td>41</td>\n",
              "      <td>65</td>\n",
              "    </tr>\n",
              "    <tr>\n",
              "      <th>13</th>\n",
              "      <td>14</td>\n",
              "      <td>18</td>\n",
              "      <td>2000</td>\n",
              "      <td>36000</td>\n",
              "      <td>2200</td>\n",
              "      <td>48</td>\n",
              "      <td>66</td>\n",
              "    </tr>\n",
              "    <tr>\n",
              "      <th>4</th>\n",
              "      <td>5</td>\n",
              "      <td>30</td>\n",
              "      <td>2000</td>\n",
              "      <td>60000</td>\n",
              "      <td>10000</td>\n",
              "      <td>67</td>\n",
              "      <td>97</td>\n",
              "    </tr>\n",
              "    <tr>\n",
              "      <th>7</th>\n",
              "      <td>8</td>\n",
              "      <td>24</td>\n",
              "      <td>2000</td>\n",
              "      <td>48000</td>\n",
              "      <td>120</td>\n",
              "      <td>78</td>\n",
              "      <td>102</td>\n",
              "    </tr>\n",
              "    <tr>\n",
              "      <th>17</th>\n",
              "      <td>18</td>\n",
              "      <td>18</td>\n",
              "      <td>2000</td>\n",
              "      <td>36000</td>\n",
              "      <td>2200</td>\n",
              "      <td>88</td>\n",
              "      <td>106</td>\n",
              "    </tr>\n",
              "    <tr>\n",
              "      <th>11</th>\n",
              "      <td>12</td>\n",
              "      <td>30</td>\n",
              "      <td>2000</td>\n",
              "      <td>60000</td>\n",
              "      <td>1000</td>\n",
              "      <td>101</td>\n",
              "      <td>131</td>\n",
              "    </tr>\n",
              "    <tr>\n",
              "      <th>16</th>\n",
              "      <td>17</td>\n",
              "      <td>24</td>\n",
              "      <td>2000</td>\n",
              "      <td>48000</td>\n",
              "      <td>1800</td>\n",
              "      <td>111</td>\n",
              "      <td>135</td>\n",
              "    </tr>\n",
              "    <tr>\n",
              "      <th>1</th>\n",
              "      <td>2</td>\n",
              "      <td>25</td>\n",
              "      <td>2000</td>\n",
              "      <td>50000</td>\n",
              "      <td>1000</td>\n",
              "      <td>117</td>\n",
              "      <td>142</td>\n",
              "    </tr>\n",
              "    <tr>\n",
              "      <th>15</th>\n",
              "      <td>16</td>\n",
              "      <td>30</td>\n",
              "      <td>2000</td>\n",
              "      <td>60000</td>\n",
              "      <td>1000</td>\n",
              "      <td>125</td>\n",
              "      <td>155</td>\n",
              "    </tr>\n",
              "    <tr>\n",
              "      <th>3</th>\n",
              "      <td>4</td>\n",
              "      <td>20</td>\n",
              "      <td>2000</td>\n",
              "      <td>40000</td>\n",
              "      <td>30000</td>\n",
              "      <td>130</td>\n",
              "      <td>150</td>\n",
              "    </tr>\n",
              "    <tr>\n",
              "      <th>6</th>\n",
              "      <td>7</td>\n",
              "      <td>18</td>\n",
              "      <td>2000</td>\n",
              "      <td>36000</td>\n",
              "      <td>22000</td>\n",
              "      <td>141</td>\n",
              "      <td>159</td>\n",
              "    </tr>\n",
              "    <tr>\n",
              "      <th>14</th>\n",
              "      <td>15</td>\n",
              "      <td>16</td>\n",
              "      <td>2000</td>\n",
              "      <td>32000</td>\n",
              "      <td>3500</td>\n",
              "      <td>153</td>\n",
              "      <td>169</td>\n",
              "    </tr>\n",
              "    <tr>\n",
              "      <th>2</th>\n",
              "      <td>3</td>\n",
              "      <td>33</td>\n",
              "      <td>2000</td>\n",
              "      <td>66000</td>\n",
              "      <td>3200</td>\n",
              "      <td>155</td>\n",
              "      <td>188</td>\n",
              "    </tr>\n",
              "    <tr>\n",
              "      <th>8</th>\n",
              "      <td>9</td>\n",
              "      <td>25</td>\n",
              "      <td>2000</td>\n",
              "      <td>50000</td>\n",
              "      <td>100</td>\n",
              "      <td>166</td>\n",
              "      <td>191</td>\n",
              "    </tr>\n",
              "    <tr>\n",
              "      <th>10</th>\n",
              "      <td>11</td>\n",
              "      <td>20</td>\n",
              "      <td>2000</td>\n",
              "      <td>40000</td>\n",
              "      <td>300</td>\n",
              "      <td>174</td>\n",
              "      <td>194</td>\n",
              "    </tr>\n",
              "  </tbody>\n",
              "</table>\n",
              "</div>"
            ],
            "text/plain": [
              "    no  dur  dreward  reward total   cost  start  finish\n",
              "0    1   24     2000         48000   1200      1      25\n",
              "12  13   24     2000         48000   1800      9      33\n",
              "9   10   33     2000         66000    320     11      44\n",
              "5    6   24     2000         48000  18000     41      65\n",
              "13  14   18     2000         36000   2200     48      66\n",
              "4    5   30     2000         60000  10000     67      97\n",
              "7    8   24     2000         48000    120     78     102\n",
              "17  18   18     2000         36000   2200     88     106\n",
              "11  12   30     2000         60000   1000    101     131\n",
              "16  17   24     2000         48000   1800    111     135\n",
              "1    2   25     2000         50000   1000    117     142\n",
              "15  16   30     2000         60000   1000    125     155\n",
              "3    4   20     2000         40000  30000    130     150\n",
              "6    7   18     2000         36000  22000    141     159\n",
              "14  15   16     2000         32000   3500    153     169\n",
              "2    3   33     2000         66000   3200    155     188\n",
              "8    9   25     2000         50000    100    166     191\n",
              "10  11   20     2000         40000    300    174     194"
            ]
          },
          "metadata": {},
          "execution_count": 76
        }
      ]
    },
    {
      "cell_type": "code",
      "source": [
        "g.setMaxDayPerTeam(365)\n",
        "# g.setMaxDayPerTeam(120)\n",
        "result = g.reset().doGreedy()\n",
        "# print(g.data)\n",
        "teamCount = len(g.teamWork.keys())\n",
        "print(f\"constraint: {g.maxDayPerTeam} hari per tim\")\n",
        "print(f\"minimal tim: {teamCount}\")"
      ],
      "metadata": {
        "colab": {
          "base_uri": "https://localhost:8080/"
        },
        "id": "nKnqhQrp_L6M",
        "outputId": "23cd0650-60ae-4d29-931a-b207ecc3e3b1"
      },
      "id": "nKnqhQrp_L6M",
      "execution_count": 77,
      "outputs": [
        {
          "output_type": "stream",
          "name": "stdout",
          "text": [
            "constraint: 365 hari per tim\n",
            "minimal tim: 5\n"
          ]
        }
      ]
    },
    {
      "cell_type": "code",
      "source": [
        "g.showResult()"
      ],
      "metadata": {
        "colab": {
          "base_uri": "https://localhost:8080/"
        },
        "id": "QsmjnnWP5HYm",
        "outputId": "a86825ce-3476-495f-fdc7-7057e65476a2"
      },
      "id": "QsmjnnWP5HYm",
      "execution_count": 81,
      "outputs": [
        {
          "output_type": "stream",
          "name": "stdout",
          "text": [
            "1 6 ['1 - 25', '41 - 65', '67 - 97', '101 - 131', '141 - 159', '166 - 191']\n",
            "2 6 ['9 - 33', '48 - 66', '78 - 102', '111 - 135', '153 - 169', '174 - 194']\n",
            "3 4 ['11 - 44', '88 - 106', '117 - 142', '155 - 188']\n",
            "4 1 ['125 - 155']\n",
            "5 1 ['130 - 150']\n"
          ]
        }
      ]
    },
    {
      "cell_type": "code",
      "metadata": {
        "colab": {
          "base_uri": "https://localhost:8080/"
        },
        "id": "ef499fe9",
        "outputId": "83858e33-8ac2-438c-b8b5-af07496075d2"
      },
      "source": [
        "g.data.shape[0]"
      ],
      "id": "ef499fe9",
      "execution_count": 79,
      "outputs": [
        {
          "output_type": "execute_result",
          "data": {
            "text/plain": [
              "18"
            ]
          },
          "metadata": {},
          "execution_count": 79
        }
      ]
    },
    {
      "cell_type": "code",
      "metadata": {
        "colab": {
          "base_uri": "https://localhost:8080/",
          "height": 35
        },
        "id": "1029dc81",
        "outputId": "37e4d5a9-d44c-4da5-f236-eea6f4bbd496"
      },
      "source": [
        "# https://www.toptal.com/developers/hastebin/ivecicixut.yaml\n",
        "\"\"\"\n",
        "function optimasi(){\n",
        "    \n",
        "    dur #jumlah hari yang diperlukan untuk pengerjaan\n",
        "    cost #biaya yang diperlukan\n",
        "    costcrash #biayapengahancuran \n",
        "    expdaycrash #lamanya waktu crash\n",
        "    dailyreward #reward\n",
        "    timeleft = 4*5*6  = 120 #waktu kerja selama 6 bulan\n",
        "    task = #jumlah task\n",
        "\n",
        "    #time\n",
        "    #reward = 0\n",
        "    #task = 0\n",
        "    if(dur > 0 and timeleft > 0){\n",
        "        timeleft = timeleft - dur;\n",
        "        if(timeleft > 0 and expdaycrash > 0){\n",
        "            timeleft = timeleft - expdaycrash;\n",
        "            if(timeleft > 0){\n",
        "                task = task + 1; #initiate task\n",
        "            }\n",
        "        }\n",
        "    }\n",
        "\n",
        "    #costreward\n",
        "    if(cost != 0){\n",
        "        totalcost = cost;\n",
        "        if(costcrash != 0){\n",
        "             totalcost = totalcost + costcrash\n",
        "        }\n",
        "        reward = dailyreward - totalcost;\n",
        "    }\n",
        "\n",
        "    print(task,reward,)\n",
        "}\n",
        "\"\"\"\n",
        "# a\n",
        "\"fun\""
      ],
      "id": "1029dc81",
      "execution_count": 80,
      "outputs": [
        {
          "output_type": "execute_result",
          "data": {
            "application/vnd.google.colaboratory.intrinsic+json": {
              "type": "string"
            },
            "text/plain": [
              "'fun'"
            ]
          },
          "metadata": {},
          "execution_count": 80
        }
      ]
    }
  ]
}